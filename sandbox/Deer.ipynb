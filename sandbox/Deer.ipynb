{
 "cells": [
  {
   "cell_type": "code",
   "execution_count": 1,
   "metadata": {
    "collapsed": true
   },
   "outputs": [],
   "source": [
    "# first remove all files with length 0\n",
    "# hdfs dfs -rm $(hdfs dfs -ls -R /twitter/movie/<moviedir> | grep -v \"^d\" | awk '{if ($5 == 0) print $8}')"
   ]
  },
  {
   "cell_type": "code",
   "execution_count": 1,
   "metadata": {
    "collapsed": false
   },
   "outputs": [],
   "source": [
    "from pyspark.sql.functions import udf, col, avg"
   ]
  },
  {
   "cell_type": "code",
   "execution_count": 2,
   "metadata": {
    "collapsed": false
   },
   "outputs": [],
   "source": [
    "from vaderSentiment.vaderSentiment import SentimentIntensityAnalyzer\n",
    "\n",
    "analyzer = SentimentIntensityAnalyzer()\n",
    "\n",
    "def negative(text):\n",
    "    return analyzer.polarity_scores(text).get('neg')\n",
    "\n",
    "def positive(text):\n",
    "    return analyzer.polarity_scores(text).get('pos')\n",
    "\n",
    "def neutral(text):\n",
    "    return analyzer.polarity_scores(text).get('neu')\n",
    "\n",
    "def compound(text):\n",
    "    return analyzer.polarity_scores(text).get('compound')\n",
    "    \n",
    "negative_udf = udf(negative)\n",
    "positive_udf = udf(positive)\n",
    "neutral_udf = udf(neutral)\n",
    "compound_udf = udf(compound)"
   ]
  },
  {
   "cell_type": "code",
   "execution_count": 14,
   "metadata": {
    "collapsed": false
   },
   "outputs": [],
   "source": [
    "ds = spark.read.json('/twitter/movie/DeerAntMan/*.gz')"
   ]
  },
  {
   "cell_type": "code",
   "execution_count": 5,
   "metadata": {
    "collapsed": false
   },
   "outputs": [
    {
     "data": {
      "text/plain": [
       "DataFrame[summary: string, body: string, favoritesCount: string, id: string, link: string, objectType: string, postedTime: string, retweetCount: string, twitter_filter_level: string, twitter_lang: string, verb: string]"
      ]
     },
     "execution_count": 5,
     "metadata": {},
     "output_type": "execute_result"
    }
   ],
   "source": [
    "ds.describe()"
   ]
  },
  {
   "cell_type": "code",
   "execution_count": 6,
   "metadata": {
    "collapsed": true
   },
   "outputs": [],
   "source": [
    "ds_text_only = ds.select('body').na.drop()"
   ]
  },
  {
   "cell_type": "code",
   "execution_count": 7,
   "metadata": {
    "collapsed": false
   },
   "outputs": [
    {
     "name": "stdout",
     "output_type": "stream",
     "text": [
      "+--------------------+\n",
      "|                body|\n",
      "+--------------------+\n",
      "|RT @Kotaku: The n...|\n",
      "+--------------------+\n",
      "only showing top 1 row\n",
      "\n"
     ]
    }
   ],
   "source": [
    "ds_text_only.show(1)"
   ]
  },
  {
   "cell_type": "code",
   "execution_count": 8,
   "metadata": {
    "collapsed": false
   },
   "outputs": [],
   "source": [
    "sentiment = ds_text_only.withColumn('neg', negative_udf(col('body'))).withColumn('neu', neutral_udf(col('body'))).withColumn('pos', positive_udf(col('body'))).withColumn('comp', compound_udf(col('body')))"
   ]
  },
  {
   "cell_type": "code",
   "execution_count": 9,
   "metadata": {
    "collapsed": false
   },
   "outputs": [
    {
     "name": "stdout",
     "output_type": "stream",
     "text": [
      "+--------------------+---+-----+-----+------+\n",
      "|                body|neg|  neu|  pos|  comp|\n",
      "+--------------------+---+-----+-----+------+\n",
      "|RT @Kotaku: The n...|0.0|0.681|0.319|0.7269|\n",
      "+--------------------+---+-----+-----+------+\n",
      "only showing top 1 row\n",
      "\n"
     ]
    }
   ],
   "source": [
    "sentiment.show(1)"
   ]
  },
  {
   "cell_type": "code",
   "execution_count": 13,
   "metadata": {
    "collapsed": false
   },
   "outputs": [
    {
     "name": "stdout",
     "output_type": "stream",
     "text": [
      "+-------+-------------------+------------------+-------------------+------------------+\n",
      "|summary|                neg|               neu|                pos|              comp|\n",
      "+-------+-------------------+------------------+-------------------+------------------+\n",
      "|  count|             181507|            181507|             181507|            181507|\n",
      "|   mean|0.03430100216520573|0.8420712424314195|0.12363143570220403|0.2023808663026771|\n",
      "| stddev|0.08203495454158365|0.1612844648404085|0.14849918431304707|0.3889369978198501|\n",
      "|    min|                0.0|             0.139|                0.0|           -0.0015|\n",
      "|    max|               0.75|               1.0|              0.861|            0.9872|\n",
      "+-------+-------------------+------------------+-------------------+------------------+\n",
      "\n"
     ]
    }
   ],
   "source": [
    "sentiment.describe('neg', 'neu', 'pos', 'comp').show()"
   ]
  },
  {
   "cell_type": "code",
   "execution_count": 11,
   "metadata": {
    "collapsed": false
   },
   "outputs": [
    {
     "data": {
      "text/plain": [
       "'Wed Sep 20 15:32:44 2017'"
      ]
     },
     "execution_count": 11,
     "metadata": {},
     "output_type": "execute_result"
    }
   ],
   "source": [
    "import time\n",
    "time.ctime() # 'Mon Oct 18 13:35:29 2010'"
   ]
  },
  {
   "cell_type": "code",
   "execution_count": 12,
   "metadata": {
    "collapsed": false
   },
   "outputs": [
    {
     "data": {
      "text/plain": [
       "u'/home/lachlan'"
      ]
     },
     "execution_count": 12,
     "metadata": {},
     "output_type": "execute_result"
    }
   ],
   "source": [
    "pwd"
   ]
  },
  {
   "cell_type": "code",
   "execution_count": null,
   "metadata": {
    "collapsed": true
   },
   "outputs": [],
   "source": []
  }
 ],
 "metadata": {
  "anaconda-cloud": {},
  "kernelspec": {
   "display_name": "Python 2 with Spark",
   "language": "python",
   "name": "pyspark2"
  },
  "language_info": {
   "codemirror_mode": {
    "name": "ipython",
    "version": 2
   },
   "file_extension": ".py",
   "mimetype": "text/x-python",
   "name": "python",
   "nbconvert_exporter": "python",
   "pygments_lexer": "ipython2",
   "version": "2.7.12"
  }
 },
 "nbformat": 4,
 "nbformat_minor": 1
}
