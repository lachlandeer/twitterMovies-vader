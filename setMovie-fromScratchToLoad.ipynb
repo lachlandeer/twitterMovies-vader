{
 "cells": [
  {
   "cell_type": "code",
   "execution_count": 1,
   "metadata": {
    "collapsed": false
   },
   "outputs": [],
   "source": [
    "#!hdfs dfs -ls -R /twitter/movie/DeerSet9/ | grep -v \"^d\" | awk '{if ($5 == 0) print $8}'"
   ]
  },
  {
   "cell_type": "code",
   "execution_count": 2,
   "metadata": {
    "collapsed": false
   },
   "outputs": [],
   "source": [
    "#!hdfs dfs -rm $(hdfs dfs -ls -R /twitter/movie/DeerSet9/ | grep -v \"^d\" | awk '{if ($5 == 0) print $8}')"
   ]
  },
  {
   "cell_type": "code",
   "execution_count": 3,
   "metadata": {
    "collapsed": true
   },
   "outputs": [],
   "source": [
    "#!hdfs dfs -ls -R /twitter/movie/DeerSet9/ | grep -v \"^d\" | awk '{if ($5 == 0) print $8}'"
   ]
  },
  {
   "cell_type": "code",
   "execution_count": 1,
   "metadata": {
    "collapsed": true
   },
   "outputs": [],
   "source": [
    "dataPath = '/twitter/movie/DeerSet9/'"
   ]
  },
  {
   "cell_type": "code",
   "execution_count": 8,
   "metadata": {
    "collapsed": true
   },
   "outputs": [],
   "source": [
    "def loadTwitterData(filePath):\n",
    "    \n",
    "    df = spark.read.json(filePath + '*.gz')\n",
    "    df2 = df.select('body','gnip.matching_rules.tag', \\\n",
    "                    'gnip.matching_rules.value', \\\n",
    "                    'postedTime', 'retweetCount').filter(df.twitter_lang == \"en\").na.drop()\n",
    "    df2 = df2.withColumn('date', df2['postedTime'].cast('date'))\n",
    "    df2 = df2.withColumnRenamed(\"tag\", \"movieName\")\n",
    "    df2 = df2.withColumnRenamed(\"value\", \"searchPattern\")\n",
    "    return df2"
   ]
  },
  {
   "cell_type": "code",
   "execution_count": 9,
   "metadata": {
    "collapsed": false
   },
   "outputs": [],
   "source": [
    "df = loadTwitterData(dataPath)"
   ]
  },
  {
   "cell_type": "code",
   "execution_count": 10,
   "metadata": {
    "collapsed": false
   },
   "outputs": [
    {
     "data": {
      "text/plain": [
       "169620"
      ]
     },
     "execution_count": 10,
     "metadata": {},
     "output_type": "execute_result"
    }
   ],
   "source": [
    "df.count()"
   ]
  },
  {
   "cell_type": "code",
   "execution_count": 11,
   "metadata": {
    "collapsed": false
   },
   "outputs": [
    {
     "data": {
      "text/plain": [
       "['body', 'movieName', 'searchPattern', 'postedTime', 'retweetCount', 'date']"
      ]
     },
     "execution_count": 11,
     "metadata": {},
     "output_type": "execute_result"
    }
   ],
   "source": [
    "df.columns"
   ]
  },
  {
   "cell_type": "code",
   "execution_count": 10,
   "metadata": {
    "collapsed": false
   },
   "outputs": [
    {
     "name": "stdout",
     "output_type": "stream",
     "text": [
      "+------------------+\n",
      "|               tag|\n",
      "+------------------+\n",
      "|[captive, sicario]|\n",
      "|         [captive]|\n",
      "|         [sicario]|\n",
      "|[sicario, captive]|\n",
      "+------------------+\n",
      "\n"
     ]
    }
   ],
   "source": [
    "df2.select('tag').distinct().show()"
   ]
  },
  {
   "cell_type": "code",
   "execution_count": 32,
   "metadata": {
    "collapsed": false
   },
   "outputs": [
    {
     "name": "stdout",
     "output_type": "stream",
     "text": [
      "root\n",
      " |-- body: string (nullable = true)\n",
      " |-- tag: array (nullable = true)\n",
      " |    |-- element: string (containsNull = true)\n",
      " |-- value: array (nullable = true)\n",
      " |    |-- element: string (containsNull = true)\n",
      " |-- twitter_lang: string (nullable = true)\n",
      "\n"
     ]
    }
   ],
   "source": [
    "df2.printSchema()"
   ]
  },
  {
   "cell_type": "code",
   "execution_count": 37,
   "metadata": {
    "collapsed": false
   },
   "outputs": [],
   "source": [
    "df3 = df2.withColumn('tag', df2['tag'].cast('string')) \\\n",
    "         .withColumn('value', df2['value'].cast('string')) \n",
    "\n",
    "# df3 = df2.withColumn('tag', df2['tag'].getItem(0).cast('string')) \\\n",
    "#          .withColumn('value', df2['value'].getItem(0).cast('string')) "
   ]
  },
  {
   "cell_type": "code",
   "execution_count": 30,
   "metadata": {
    "collapsed": false
   },
   "outputs": [
    {
     "name": "stdout",
     "output_type": "stream",
     "text": [
      "+-----------------+\n",
      "|              tag|\n",
      "+-----------------+\n",
      "|[sicario,captive]|\n",
      "|        [captive]|\n",
      "|        [sicario]|\n",
      "|[captive,sicario]|\n",
      "+-----------------+\n",
      "\n"
     ]
    }
   ],
   "source": [
    "df3.select('tag').distinct().show()"
   ]
  },
  {
   "cell_type": "markdown",
   "metadata": {},
   "source": [
    "### Finding Unique Movies in a data"
   ]
  },
  {
   "cell_type": "code",
   "execution_count": 72,
   "metadata": {
    "collapsed": false
   },
   "outputs": [],
   "source": [
    "from pyspark.sql.functions import col"
   ]
  },
  {
   "cell_type": "code",
   "execution_count": 49,
   "metadata": {
    "collapsed": false
   },
   "outputs": [],
   "source": [
    "movies = df3.select('tag').where(~col('tag').like('%,%')).distinct().collect()"
   ]
  },
  {
   "cell_type": "code",
   "execution_count": 87,
   "metadata": {
    "collapsed": false
   },
   "outputs": [
    {
     "name": "stdout",
     "output_type": "stream",
     "text": [
      "['captive', 'sicario']\n"
     ]
    }
   ],
   "source": [
    "movies2 = [str(i.tag[1:-1]) for i in movies]\n",
    "print(movies2)\n"
   ]
  },
  {
   "cell_type": "code",
   "execution_count": 88,
   "metadata": {
    "collapsed": false
   },
   "outputs": [
    {
     "data": {
      "text/plain": [
       "941"
      ]
     },
     "execution_count": 88,
     "metadata": {},
     "output_type": "execute_result"
    }
   ],
   "source": [
    "df3.rdd.getNumPartitions()"
   ]
  },
  {
   "cell_type": "code",
   "execution_count": 35,
   "metadata": {
    "collapsed": false
   },
   "outputs": [
    {
     "name": "stdout",
     "output_type": "stream",
     "text": [
      "+--------------------------------------------------------------------------------------------------------------------------------+\n",
      "|body                                                                                                                            |\n",
      "+--------------------------------------------------------------------------------------------------------------------------------+\n",
      "|#Trailers @Captive | i-Lived | The Seventh Dwarf | @SicarioMovie and Daddy's Home http://t.co/mHOqxgeVFt https://t.co/v2Ho4UAPLY|\n",
      "+--------------------------------------------------------------------------------------------------------------------------------+\n",
      "\n"
     ]
    }
   ],
   "source": [
    "df3.select('body').filter(df3.tag.like('%captive,sicario%')).show(10, False)"
   ]
  },
  {
   "cell_type": "code",
   "execution_count": 39,
   "metadata": {
    "collapsed": false
   },
   "outputs": [
    {
     "data": {
      "text/plain": [
       "150731"
      ]
     },
     "execution_count": 39,
     "metadata": {},
     "output_type": "execute_result"
    }
   ],
   "source": [
    "df3.select('body').filter(df3.tag.like('%sicario%')).count()"
   ]
  },
  {
   "cell_type": "code",
   "execution_count": 40,
   "metadata": {
    "collapsed": false
   },
   "outputs": [
    {
     "data": {
      "text/plain": [
       "18892"
      ]
     },
     "execution_count": 40,
     "metadata": {},
     "output_type": "execute_result"
    }
   ],
   "source": [
    "df3.select('body').filter(df3.tag.like('%captive%')).count()"
   ]
  },
  {
   "cell_type": "code",
   "execution_count": null,
   "metadata": {
    "collapsed": true
   },
   "outputs": [],
   "source": []
  }
 ],
 "metadata": {
  "anaconda-cloud": {},
  "kernelspec": {
   "display_name": "Python 2 with Spark",
   "language": "python",
   "name": "pyspark2"
  },
  "language_info": {
   "codemirror_mode": {
    "name": "ipython",
    "version": 2
   },
   "file_extension": ".py",
   "mimetype": "text/x-python",
   "name": "python",
   "nbconvert_exporter": "python",
   "pygments_lexer": "ipython2",
   "version": "2.7.12"
  }
 },
 "nbformat": 4,
 "nbformat_minor": 1
}
