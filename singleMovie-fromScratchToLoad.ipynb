{
 "cells": [
  {
   "cell_type": "markdown",
   "metadata": {},
   "source": [
    "In this notebook we compute the summary data at the daily level for the file 'Antman'\n",
    "\n",
    "We compute:\n",
    "- total tweets per day\n",
    "- Number of positive, negative and neutral tweets per day\n",
    "- Summary stats of sentiment per day: mean, median, std dev, percentiles\n",
    "\n",
    "We save the result as a csv file."
   ]
  },
  {
   "cell_type": "code",
   "execution_count": 3,
   "metadata": {
    "collapsed": false
   },
   "outputs": [
    {
     "name": "stdout",
     "output_type": "stream",
     "text": [
      "-rm: Not enough arguments: expected 1 but got 0\r\n",
      "Usage: hadoop fs [generic options] -rm [-f] [-r|-R] [-skipTrash] <src> ...\r\n"
     ]
    }
   ],
   "source": [
    "!hdfs dfs -rm $(hdfs dfs -ls -R /twitter/movie/DeerGreenInfernoAndOurBrandTEST | grep -v \"^d\" | awk '{if ($5 == 0) print $8}')"
   ]
  },
  {
   "cell_type": "code",
   "execution_count": 9,
   "metadata": {
    "collapsed": false
   },
   "outputs": [
    {
     "name": "stdout",
     "output_type": "stream",
     "text": [
      "/twitter/movie/DeerChappie/DeerChappie_184850.gz\n",
      "/twitter/movie/DeerChappie/DeerChappie_184878.gz\n",
      "/twitter/movie/DeerChappie/DeerChappie_184948.gz\n",
      "/twitter/movie/DeerChappie/DeerChappie_184955.gz\n",
      "/twitter/movie/DeerChappie/DeerChappie_185276.gz\n",
      "/twitter/movie/DeerChappie/DeerChappie_185839.gz\n",
      "/twitter/movie/DeerChappie/DeerChappie_185894.gz\n",
      "/twitter/movie/DeerChappie/DeerChappie_185914.gz\n",
      "/twitter/movie/DeerChappie/DeerChappie_185929.gz\n",
      "/twitter/movie/DeerChappie/DeerChappie_186023.gz\n",
      "/twitter/movie/DeerChappie/DeerChappie_203981.gz\n",
      "/twitter/movie/DeerChappie/DeerChappie_203996.gz\n"
     ]
    }
   ],
   "source": [
    "!hdfs dfs -ls -R /twitter/movie/DeerChappie/ | grep -v \"^d\" | awk '{if ($5 == 0) print $8}'"
   ]
  },
  {
   "cell_type": "code",
   "execution_count": 10,
   "metadata": {
    "collapsed": false
   },
   "outputs": [
    {
     "name": "stdout",
     "output_type": "stream",
     "text": [
      "17/09/27 19:49:37 INFO fs.TrashPolicyDefault: Namenode trash configuration: Deletion interval = 0 minutes, Emptier interval = 0 minutes.\n",
      "Deleted /twitter/movie/DeerChappie/DeerChappie_184850.gz\n",
      "17/09/27 19:49:37 INFO fs.TrashPolicyDefault: Namenode trash configuration: Deletion interval = 0 minutes, Emptier interval = 0 minutes.\n",
      "Deleted /twitter/movie/DeerChappie/DeerChappie_184878.gz\n",
      "17/09/27 19:49:37 INFO fs.TrashPolicyDefault: Namenode trash configuration: Deletion interval = 0 minutes, Emptier interval = 0 minutes.\n",
      "Deleted /twitter/movie/DeerChappie/DeerChappie_184948.gz\n",
      "17/09/27 19:49:37 INFO fs.TrashPolicyDefault: Namenode trash configuration: Deletion interval = 0 minutes, Emptier interval = 0 minutes.\n",
      "Deleted /twitter/movie/DeerChappie/DeerChappie_184955.gz\n",
      "17/09/27 19:49:37 INFO fs.TrashPolicyDefault: Namenode trash configuration: Deletion interval = 0 minutes, Emptier interval = 0 minutes.\n",
      "Deleted /twitter/movie/DeerChappie/DeerChappie_185276.gz\n",
      "17/09/27 19:49:37 INFO fs.TrashPolicyDefault: Namenode trash configuration: Deletion interval = 0 minutes, Emptier interval = 0 minutes.\n",
      "Deleted /twitter/movie/DeerChappie/DeerChappie_185839.gz\n",
      "17/09/27 19:49:37 INFO fs.TrashPolicyDefault: Namenode trash configuration: Deletion interval = 0 minutes, Emptier interval = 0 minutes.\n",
      "Deleted /twitter/movie/DeerChappie/DeerChappie_185894.gz\n",
      "17/09/27 19:49:37 INFO fs.TrashPolicyDefault: Namenode trash configuration: Deletion interval = 0 minutes, Emptier interval = 0 minutes.\n",
      "Deleted /twitter/movie/DeerChappie/DeerChappie_185914.gz\n",
      "17/09/27 19:49:37 INFO fs.TrashPolicyDefault: Namenode trash configuration: Deletion interval = 0 minutes, Emptier interval = 0 minutes.\n",
      "Deleted /twitter/movie/DeerChappie/DeerChappie_185929.gz\n",
      "17/09/27 19:49:37 INFO fs.TrashPolicyDefault: Namenode trash configuration: Deletion interval = 0 minutes, Emptier interval = 0 minutes.\n",
      "Deleted /twitter/movie/DeerChappie/DeerChappie_186023.gz\n",
      "17/09/27 19:49:37 INFO fs.TrashPolicyDefault: Namenode trash configuration: Deletion interval = 0 minutes, Emptier interval = 0 minutes.\n",
      "Deleted /twitter/movie/DeerChappie/DeerChappie_203981.gz\n",
      "17/09/27 19:49:37 INFO fs.TrashPolicyDefault: Namenode trash configuration: Deletion interval = 0 minutes, Emptier interval = 0 minutes.\n",
      "Deleted /twitter/movie/DeerChappie/DeerChappie_203996.gz\n"
     ]
    }
   ],
   "source": [
    "!hdfs dfs -rm $(hdfs dfs -ls -R /twitter/movie/DeerChappie/ | grep -v \"^d\" | awk '{if ($5 == 0) print $8}')"
   ]
  },
  {
   "cell_type": "code",
   "execution_count": 11,
   "metadata": {
    "collapsed": true
   },
   "outputs": [],
   "source": [
    "!hdfs dfs -ls -R /twitter/movie/DeerChappie/ | grep -v \"^d\" | awk '{if ($5 == 0) print $8}'"
   ]
  },
  {
   "cell_type": "code",
   "execution_count": 12,
   "metadata": {
    "collapsed": true
   },
   "outputs": [],
   "source": [
    "dataPath = '/twitter/movie/DeerChappie/'"
   ]
  },
  {
   "cell_type": "code",
   "execution_count": 13,
   "metadata": {
    "collapsed": true
   },
   "outputs": [],
   "source": [
    "def loadTwitterData(filePath):\n",
    "    \n",
    "    df = spark.read.json(filePath + '*.gz')\n",
    "    df2 = df.select('body', 'postedTime', 'retweetCount').na.drop()\n",
    "    df2 = df2.withColumn('date', df2['postedTime'].cast('date'))\n",
    "    \n",
    "    return df2"
   ]
  },
  {
   "cell_type": "code",
   "execution_count": 14,
   "metadata": {
    "collapsed": false
   },
   "outputs": [],
   "source": [
    "df = loadTwitterData(dataPath)"
   ]
  },
  {
   "cell_type": "code",
   "execution_count": 15,
   "metadata": {
    "collapsed": false
   },
   "outputs": [
    {
     "name": "stdout",
     "output_type": "stream",
     "text": [
      "+--------------------+--------------------+------------+----------+\n",
      "|                body|          postedTime|retweetCount|      date|\n",
      "+--------------------+--------------------+------------+----------+\n",
      "|watching Chappie ...|2015-03-06T17:40:...|           0|2015-03-06|\n",
      "|RT @wittertainmen...|2015-03-06T17:40:...|          12|2015-03-06|\n",
      "|RT @jasonheid: Co...|2015-03-06T17:40:...|           1|2015-03-06|\n",
      "|Trying to see Cha...|2015-03-06T17:40:...|           0|2015-03-06|\n",
      "|'Chappie' filmmak...|2015-03-06T17:40:...|           0|2015-03-06|\n",
      "+--------------------+--------------------+------------+----------+\n",
      "only showing top 5 rows\n",
      "\n"
     ]
    }
   ],
   "source": [
    "df.show(5)"
   ]
  }
 ],
 "metadata": {
  "anaconda-cloud": {},
  "kernelspec": {
   "display_name": "Python 2 with Spark",
   "language": "python",
   "name": "pyspark2"
  },
  "language_info": {
   "codemirror_mode": {
    "name": "ipython",
    "version": 2
   },
   "file_extension": ".py",
   "mimetype": "text/x-python",
   "name": "python",
   "nbconvert_exporter": "python",
   "pygments_lexer": "ipython2",
   "version": "2.7.12"
  }
 },
 "nbformat": 4,
 "nbformat_minor": 1
}
